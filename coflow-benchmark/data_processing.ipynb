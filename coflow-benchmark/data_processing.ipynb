{
 "cells": [
  {
   "cell_type": "code",
   "execution_count": 1,
   "metadata": {
    "collapsed": false
   },
   "outputs": [],
   "source": [
    "# Process the real-world coflow data as an real instance for concurrent open shop\n",
    "'''\n",
    "M: number of machines\n",
    "N: number of jobs\n",
    "'''\n",
    "input_filename = 'FB2010-1Hr-150-0.txt'\n",
    "f = open(input_filename, 'r')\n",
    "[M, N] = f.readline().split()"
   ]
  },
  {
   "cell_type": "code",
   "execution_count": 2,
   "metadata": {
    "collapsed": false
   },
   "outputs": [],
   "source": [
    "M = int(M)\n",
    "N = int(N)\n",
    "p_times = [[0 for x in range(N)] for y in range(2*M)] \n",
    "r_times = [0 for x in range(N)] "
   ]
  },
  {
   "cell_type": "code",
   "execution_count": 3,
   "metadata": {
    "collapsed": false
   },
   "outputs": [],
   "source": [
    "counter = 0\n",
    "for line in f:\n",
    "    data_line = line.split()\n",
    "    r_times[counter] = int(data_line[1])\n",
    "    \n",
    "    no_mappers = int(data_line[2])\n",
    "    mappers = [0 for x in range(no_mappers)] \n",
    "    for i in range(no_mappers):\n",
    "        mappers[i] = int(data_line[3+i])\n",
    "    \n",
    "    no_reducers = int(data_line[3+no_mappers])\n",
    "    reducers = [0 for x in range(no_reducers)]\n",
    "    shuffle_data = [0 for x in range(no_reducers)]\n",
    "    for j in range(no_reducers):\n",
    "        [r, s] = data_line[4+no_mappers+j].split(':')    \n",
    "        reducers[j] = int(r)\n",
    "        shuffle_data[j] = float(s)\n",
    "        \n",
    "    sum_for_mappers = sum(shuffle_data)\n",
    "    for m in mappers:\n",
    "        p_times[m-1][counter] = sum_for_mappers\n",
    "    \n",
    "    for i in range(no_reducers):\n",
    "        p_times[150+reducers[i]-1][counter] = no_mappers*shuffle_data[i]\n",
    "\n",
    "    counter = counter + 1\n",
    "\n",
    "f.close()"
   ]
  },
  {
   "cell_type": "code",
   "execution_count": 4,
   "metadata": {
    "collapsed": false
   },
   "outputs": [],
   "source": [
    "output_filename1 = 'real_world_cos_from_coflows_p_times.txt'\n",
    "w = open(output_filename1, 'w')\n",
    "for l in p_times:\n",
    "    for le in l:\n",
    "        print >>w, le,\n",
    "    print >>w\n",
    "w.close()"
   ]
  },
  {
   "cell_type": "code",
   "execution_count": 5,
   "metadata": {
    "collapsed": true
   },
   "outputs": [],
   "source": [
    "output_filename2 = 'real_world_cos_from_coflows_r_times.txt'\n",
    "w = open(output_filename2, 'w')\n",
    "for r in r_times:\n",
    "    print >>w, r\n",
    "w.close()"
   ]
  },
  {
   "cell_type": "code",
   "execution_count": null,
   "metadata": {
    "collapsed": true
   },
   "outputs": [],
   "source": []
  }
 ],
 "metadata": {
  "kernelspec": {
   "display_name": "Python 2",
   "language": "python",
   "name": "python2"
  },
  "language_info": {
   "codemirror_mode": {
    "name": "ipython",
    "version": 2
   },
   "file_extension": ".py",
   "mimetype": "text/x-python",
   "name": "python",
   "nbconvert_exporter": "python",
   "pygments_lexer": "ipython2",
   "version": "2.7.10"
  }
 },
 "nbformat": 4,
 "nbformat_minor": 0
}
